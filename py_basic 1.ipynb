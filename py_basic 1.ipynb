{
 "cells": [
  {
   "cell_type": "code",
   "execution_count": 3,
   "metadata": {},
   "outputs": [
    {
     "name": "stdout",
     "output_type": "stream",
     "text": [
      "enter 1st no7\n",
      "enter 2nd no0\n",
      "addition of both no is,7\n",
      "error occured in division division by zero\n"
     ]
    }
   ],
   "source": [
    "num1=int(input('enter 1st no'))\n",
    "num2=int(input('enter 2nd no'))\n",
    "\n",
    "print(f\"addition of both no is,{num1+num2}\")\n",
    "\n",
    "try:\n",
    "    div=num1/num2\n",
    "    print(f\"divi of both no is{div}\")\n",
    "except Exception as e:\n",
    "    print('error occured in division',e)"
   ]
  },
  {
   "cell_type": "code",
   "execution_count": 5,
   "metadata": {},
   "outputs": [],
   "source": [
    "def tri_area(base,height):\n",
    "    \"\"\"this function calculates area of function\"\"\"\n",
    "    return 0.5*base*height"
   ]
  },
  {
   "cell_type": "code",
   "execution_count": 6,
   "metadata": {},
   "outputs": [
    {
     "name": "stdout",
     "output_type": "stream",
     "text": [
      "enter base length7\n",
      "enter base height5\n",
      "area of tringle 17.5\n"
     ]
    }
   ],
   "source": [
    "base=int(input('enter base length'))\n",
    "height=int(input('enter base height'))\n",
    "\n",
    "print('area of tringle',tri_area(base,height))"
   ]
  },
  {
   "cell_type": "code",
   "execution_count": 17,
   "metadata": {},
   "outputs": [
    {
     "name": "stdout",
     "output_type": "stream",
     "text": [
      "enter km to be converted into milesu\n",
      "could not convert into miles: invalid literal for int() with base 10: 'u'\n"
     ]
    }
   ],
   "source": [
    "try:\n",
    "    km=int(input('enter km to be converted into miles'))\n",
    "    miles=0.621371*km\n",
    "    print('no of miles to be converted into km',miles)\n",
    "except Exception as e:\n",
    "    print('could not convert into miles:',e)"
   ]
  },
  {
   "cell_type": "code",
   "execution_count": 20,
   "metadata": {},
   "outputs": [],
   "source": [
    "import calendar"
   ]
  },
  {
   "cell_type": "code",
   "execution_count": 22,
   "metadata": {},
   "outputs": [
    {
     "name": "stdout",
     "output_type": "stream",
     "text": [
      "enter the year whos calender is requiredo\n",
      "could not print calender invalid literal for int() with base 10: 'o'\n"
     ]
    }
   ],
   "source": [
    "try:\n",
    "    yy=int(input('enter the year whos calender is required'))\n",
    "    print(calendar.calendar(yy))\n",
    "except Exception as e:\n",
    "    print('could not print calender',e)"
   ]
  },
  {
   "cell_type": "code",
   "execution_count": 32,
   "metadata": {},
   "outputs": [
    {
     "name": "stdout",
     "output_type": "stream",
     "text": [
      "variable au\n",
      "could not do swapping invalid literal for int() with base 10: 'u'\n"
     ]
    }
   ],
   "source": [
    "try:\n",
    "    \n",
    "    a=int(input('variable a'))\n",
    "    b=int(input('variable b'))\n",
    "\n",
    "    a=a+b\n",
    "    b=a-b\n",
    "    a=a-b\n",
    "    print('value of a after swaping',a)\n",
    "    print('value of b after swaping',b)\n",
    "except Exception as obj:\n",
    "    print('could not do swapping',obj)"
   ]
  },
  {
   "cell_type": "code",
   "execution_count": null,
   "metadata": {},
   "outputs": [],
   "source": []
  }
 ],
 "metadata": {
  "kernelspec": {
   "display_name": "Python 3",
   "language": "python",
   "name": "python3"
  },
  "language_info": {
   "codemirror_mode": {
    "name": "ipython",
    "version": 3
   },
   "file_extension": ".py",
   "mimetype": "text/x-python",
   "name": "python",
   "nbconvert_exporter": "python",
   "pygments_lexer": "ipython3",
   "version": "3.7.6"
  }
 },
 "nbformat": 4,
 "nbformat_minor": 4
}
